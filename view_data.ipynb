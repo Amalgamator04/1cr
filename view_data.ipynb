{
 "cells": [
  {
   "cell_type": "markdown",
   "id": "9c86692c",
   "metadata": {},
   "source": [
    "Data view"
   ]
  },
  {
   "cell_type": "code",
   "execution_count": 12,
   "id": "f200fcf0",
   "metadata": {},
   "outputs": [
    {
     "name": "stdout",
     "output_type": "stream",
     "text": [
      "\n",
      "FIle name: data\\customer_insights.csv\n",
      "                            Customer_ID             Name  Age  Gender Region  \\\n",
      "0  35290fce-cb64-4a7e-a9e6-683b2e1aeea9  Christy Johnson   20  Female   East   \n",
      "1  28cf6f0f-7f19-48cb-b4c6-365ab6da5187  Jennifer Cooper   41   Other  South   \n",
      "2  98ad6eb7-a2ad-4a86-aa69-cd7665ec3aee   James Oconnell   35    Male  South   \n",
      "3  c374031c-abf3-459e-a1d8-aa7423fe3a6b     David Carter   66    Male  North   \n",
      "4  75907bcd-0d99-4139-8fc3-de71c9d6c79a  Patricia Parker   59   Other  North   \n",
      "\n",
      "    Join_Date  Total_Spend  Loyalty_Score  \n",
      "0  2023-11-13      9020.79              2  \n",
      "1  2025-01-07       644.65              7  \n",
      "2  2024-08-11      1191.21              9  \n",
      "3  2022-09-14      8152.25              9  \n",
      "4  2023-09-07      1666.91              8  \n",
      "\n",
      "FIle name: data\\employee_performance.csv\n",
      "                            Employee_ID                Name  Department  \\\n",
      "0  965de8ad-d576-4e96-82e6-9dbe0a73f2d9         Devin Grant     Finance   \n",
      "1  ec8bab03-a4b5-4559-a4e7-56dae6ebd6d5         Megan Lynch       Sales   \n",
      "2  7fca6edd-33eb-408d-9dcc-e39444fe6148  Dr. Heather Stokes          IT   \n",
      "3  875007fc-3948-4777-a51a-3dfede2a510b        Jessica Beck  Operations   \n",
      "4  3e01deab-e6cd-4d76-bced-8955bc9392be         Chad Dennis          HR   \n",
      "\n",
      "  Joining_Date  Performance_Score  Projects_Handled     Salary  \n",
      "0   2023-07-14                  3                13   72094.65  \n",
      "1   2022-07-30                  6                 5   94819.98  \n",
      "2   2021-03-02                  7                 1  109105.49  \n",
      "3   2024-07-15                  1                 2   21657.41  \n",
      "4   2022-09-19                  9                15   51000.71  \n",
      "\n",
      "FIle name: data\\financial_performance.csv\n",
      "     Month    Revenue       Cost    Profit       Tax\n",
      "0  2024-09   82535.70  139975.77  18625.92   1973.10\n",
      "1  2024-12   40508.63  125704.94  13978.57  11413.48\n",
      "2  2025-08  181180.90   56794.51  13662.47  19268.44\n",
      "3  2023-11  135273.72   24785.84  28439.32    726.16\n",
      "4  2024-10  144823.21  117429.07  14842.74  12389.11\n",
      "\n",
      "FIle name: data\\inventory_management.csv\n",
      "                             Product_ID Product_Name     Category  \\\n",
      "0  d86f4dcc-387f-4d95-a7f8-f5e215f3f4ea       moment  Electronics   \n",
      "1  15c0f113-89c7-40df-90ab-646eb844943b          not  Electronics   \n",
      "2  d5810f04-c960-4ad0-9d0e-018bbe7e4ba1         rule  Electronics   \n",
      "3  4d57dc2d-3835-4d56-a71a-6b8986826369        start  Electronics   \n",
      "4  df6ab34f-3fcd-49bb-b826-00a9428d8449         trip     Clothing   \n",
      "\n",
      "   Stock_Level  Reorder_Level                    Supplier Last_Updated  \n",
      "0          153             68  Fields, Thornton and Woods   2025-08-08  \n",
      "1          321             47     Barker, Jones and Weber   2025-08-08  \n",
      "2          274             88               Tucker-Morris   2025-08-08  \n",
      "3          236             40               Rosario-Smith   2025-08-08  \n",
      "4          103             44  Jensen, Johnson and Vargas   2025-08-08  \n",
      "\n",
      "FIle name: data\\marketing_campaign.csv\n",
      "                            Campaign_ID  \\\n",
      "0  17592075-3629-45d7-9169-e3c200374c5c   \n",
      "1  9e2e43b2-240f-403e-8b91-ad2494d11bf3   \n",
      "2  478cea88-34cc-41f3-8262-696f14c80dbb   \n",
      "3  a1bf4fce-a84f-4351-a3ab-46dac3cb81ca   \n",
      "4  2d1bcd42-c785-4c6d-8f83-cd404be2dfd7   \n",
      "\n",
      "                           Campaign_Name  Start_Date    End_Date  \\\n",
      "0    Organic next generation parallelism  2025-06-15  2025-08-08   \n",
      "1        Monitored transitional leverage  2025-04-07  2025-08-08   \n",
      "2  Compatible contextually-based ability  2024-12-25  2025-08-08   \n",
      "3              Optional static workforce  2024-12-24  2025-08-08   \n",
      "4        Secured clear-thinking paradigm  2025-08-06  2025-08-08   \n",
      "\n",
      "        Channel     Spend   Revenue   ROI  \n",
      "0         Radio  27821.33  94328.35 -0.29  \n",
      "1            TV   8605.14  83105.36  1.89  \n",
      "2     Billboard  15530.30  27173.42  1.72  \n",
      "3  Social Media  37330.49  12455.04  1.68  \n",
      "4     Billboard  25612.05  79996.04 -0.30  \n",
      "\n",
      "FIle name: data\\sales_overview.csv\n",
      "                               Order_ID        Date  Product  Category  \\\n",
      "0  9f4fac86-3ad1-4a8f-95a9-4a989e47e155  2025-04-08     read      Home   \n",
      "1  73b8fd16-7441-482d-96f2-456cf27edd5a  2025-04-05  manager    Beauty   \n",
      "2  47dd9747-e366-45e8-a6fc-f55bcceb6eaf  2024-08-14  perform  Clothing   \n",
      "3  72d229b7-ebc1-4d4f-81f4-20db11c68e93  2025-02-18  program      Home   \n",
      "4  8cd987fb-348f-43d2-8add-1752d34ac072  2025-01-15     hope      Home   \n",
      "\n",
      "   Quantity   Price  Discount Region  \n",
      "0         7  442.16      0.26  South  \n",
      "1         9   97.64      0.14   West  \n",
      "2         7  178.90      0.12  North  \n",
      "3         3  256.11      0.20  South  \n",
      "4         8  166.88      0.04   East  \n"
     ]
    }
   ],
   "source": [
    "import pandas as pd\n",
    "files=['data\\\\customer_insights.csv','data\\\\employee_performance.csv','data\\\\financial_performance.csv','data\\\\inventory_management.csv','data\\\\marketing_campaign.csv','data\\\\sales_overview.csv']\n",
    "\n",
    "for file in files:\n",
    "    data=pd.read_csv(file)\n",
    "    print(\"\\nFIle name:\",file)\n",
    "    print(data.head())\n"
   ]
  },
  {
   "cell_type": "code",
   "execution_count": 2,
   "id": "197e7f3d",
   "metadata": {},
   "outputs": [],
   "source": [
    "#data View\n",
    "files=['data\\customer_insights.csv','data\\employee_performance.csv','data\\financial_performance.csv','data\\inventory_management.csv','data\\marketing_campaign.csv','data\\sales_overview.csv']\n",
    "\n"
   ]
  },
  {
   "cell_type": "code",
   "execution_count": null,
   "id": "47741ed3",
   "metadata": {},
   "outputs": [],
   "source": [
    "#TO SEE SPECIFIC DATA IN TABULAR FORMAT THEN REPLACE FILE-PATH TO RELATIVE PATH OF THE FILE\n",
    "data=pd.read_csv('File-path')\n",
    "data.head()"
   ]
  },
  {
   "cell_type": "code",
   "execution_count": null,
   "id": "cd057c92",
   "metadata": {},
   "outputs": [],
   "source": []
  }
 ],
 "metadata": {
  "kernelspec": {
   "display_name": "Python 3",
   "language": "python",
   "name": "python3"
  },
  "language_info": {
   "codemirror_mode": {
    "name": "ipython",
    "version": 3
   },
   "file_extension": ".py",
   "mimetype": "text/x-python",
   "name": "python",
   "nbconvert_exporter": "python",
   "pygments_lexer": "ipython3",
   "version": "3.11.9"
  }
 },
 "nbformat": 4,
 "nbformat_minor": 5
}
